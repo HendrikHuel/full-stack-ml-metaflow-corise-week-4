{
 "cells": [
  {
   "attachments": {},
   "cell_type": "markdown",
   "metadata": {},
   "source": [
    "# Welcome to Full Stack Machine Learning's Week 4 Project!\n",
    "\n",
    "In the final week, you will return to the workflow you built last week on the [taxi dataset](https://www.nyc.gov/site/tlc/about/tlc-trip-record-data.page). "
   ]
  },
  {
   "attachments": {},
   "cell_type": "markdown",
   "metadata": {},
   "source": [
    "## Task 1: Deploy the champion\n",
    "Use what you have learned in the last two weeks to make necessary modifications and to deploy your latest version of the `TaxiFarePrediction` flow to Argo. Use `--branch champion` to denote this deployment as the champion model."
   ]
  },
  {
   "cell_type": "code",
   "execution_count": 1,
   "metadata": {},
   "outputs": [],
   "source": [
    "%load_ext autoreload\n",
    "%autoreload 2"
   ]
  },
  {
   "cell_type": "code",
   "execution_count": 2,
   "metadata": {},
   "outputs": [
    {
     "name": "stdout",
     "output_type": "stream",
     "text": [
      "Writing taxi_fare_prediction_champion.py\n"
     ]
    }
   ],
   "source": [
    "\n",
    "%%writefile taxi_fare_prediction_champion.py\n",
    "\n",
    "from metaflow import FlowSpec, step, card, conda_base, current, Parameter, Flow, trigger, retry, catch, timeout\n",
    "from metaflow.cards import Markdown, Table, Image, Artifact\n",
    "\n",
    "import pandas as pd\n",
    "\n",
    "URL = \"https://outerbounds-datasets.s3.us-west-2.amazonaws.com/taxi/latest.parquet\"\n",
    "DATETIME_FORMAT = \"%Y-%m-%d %H:%M:%S\"\n",
    "\n",
    "\n",
    "def clean_data(df: pd.DataFrame) -> pd.DataFrame:\n",
    "    obviously_bad_data_filters = [\n",
    "        \"fare_amount > 0\",  # fare_amount in US Dollars\n",
    "        \"trip_distance <= 100\",  # trip_distance in miles\n",
    "        \"trip_distance > 0\",\n",
    "        \"passenger_count > 0\",\n",
    "        \"tpep_pickup_datetime < tpep_dropoff_datetime\",\n",
    "        \"tip_amount >= 0\",\n",
    "        \"tolls_amount >= 0\",\n",
    "        \"improvement_surcharge >= 0\",\n",
    "        \"total_amount >= 0\",\n",
    "        \"congestion_surcharge >= 0\",\n",
    "        \"airport_fee >= 0\",\n",
    "        # TODO: add some logic to filter out what you decide is bad data!\n",
    "        # TIP: Don't spend too much time on this step for this project though, it practice it is a never-ending process.\n",
    "    ]\n",
    "\n",
    "    df = df.query(\" & \".join(obviously_bad_data_filters))\n",
    "\n",
    "    if len(df) == 0:\n",
    "        raise ValueError(\"No entries remain after filtering.\")\n",
    "\n",
    "    return df\n",
    "\n",
    "@project(name=\"taxi_fare_prediction\")\n",
    "@trigger(events=[\"s3\"])\n",
    "@conda_base(\n",
    "libraries={\n",
    "    \"pandas\": \"2.1.2\",  # bump version\n",
    "    \"pyarrow\": \"13.0.0\", # bump version\n",
    "    #\"numpy\": \"1.21.2\",  # omit defining numpy since pandas comes with it\n",
    "    \"scikit-learn\": \"1.3.2\", # bump version\n",
    "}\n",
    ")\n",
    "class TaxiFarePrediction(FlowSpec):\n",
    "data_url = Parameter(\"data_url\", default=URL)\n",
    "\n",
    "@retry(times=3, minutes_between_retries=1)\n",
    "@step\n",
    "def start(self):\n",
    "    \"\"\"Read data seperately to allow retries.\"\"\"\n",
    "    import pandas as pd\n",
    "\n",
    "    self.df = pd.read_parquet(self.data_url)\n",
    "\n",
    "    self.next(self.transform_features)\n",
    "\n",
    "@step\n",
    "def transform_features(self):\n",
    "    \"\"\"Clean data.\"\"\"\n",
    "\n",
    "    self.df = clean_data(self.df)\n",
    "\n",
    "    self.X = self.df[\"trip_distance\"].values.reshape(-1, 1)\n",
    "    self.y = self.df[\"total_amount\"].values\n",
    "\n",
    "    self.next(self.train_linear_model)\n",
    "\n",
    "@timeout(minutes=5)\n",
    "@step\n",
    "def train_linear_model(self):\n",
    "    \"Train linear model.\"\n",
    "    from sklearn.linear_model import LinearRegression\n",
    "\n",
    "    self.model = LinearRegression()\n",
    "\n",
    "    self.model.fit(self.X, self.y)\n",
    "\n",
    "    self.next(self.predict)\n",
    "    \n",
    "def predict(self):\n",
    "    \"Do insample prediction.\"\n",
    "    from sklearn.metrics import mean_absolute_error\n",
    "\n",
    "    self.y_hat = self.model.predict(self.X)\n",
    "    self.score = mean_absolute_error(self.y, self.y_hat)\n",
    "\n",
    "@step\n",
    "def end(self):\n",
    "    \"\"\"\n",
    "    End of flow!\n",
    "    \"\"\"\n",
    "    print('Scores:')\n",
    "    print(f\"The insample MAE of the linear model is {self.score:.2f}.\")\n",
    "\n",
    "\n",
    "if __name__ == \"__main__\":\n",
    "    TaxiFarePrediction()"
   ]
  },
  {
   "cell_type": "code",
   "execution_count": null,
   "metadata": {},
   "outputs": [],
   "source": []
  },
  {
   "attachments": {},
   "cell_type": "markdown",
   "metadata": {},
   "source": [
    "## Task 2: Build the challenger\n",
    "Develop a second model, by using the same `TaxiFarePrediction` architecture. Then, deploy the flow to Argo as the `--branch challenger`. \n",
    "<br>\n",
    "<br>\n",
    "Hint: Modify the `linear_model` step. \n",
    "<br>\n",
    "Bonus: Write a paragraph summary of how you developed the second model and tested it before deploying the challenger flow. Let us know in Slack what you found challenging about the task? "
   ]
  },
  {
   "attachments": {},
   "cell_type": "markdown",
   "metadata": {},
   "source": [
    "## Task 3: Analyze the results\n",
    "Return to this notebook, and read in the results of the challenger and champion flow using the Metaflow Client API.\n",
    "<br><br>\n",
    "\n",
    "#### Questions\n",
    "- Does your model perform better on the metrics you selected? \n",
    "- Think about your day job, how would you go about assessing whether to roll forward the production \"champion\" to your new model? \n",
    "    - What gives you confidence one model is better than another?\n",
    "    - What kinds of information do you need to monitor to get buy-in from stakeholders that model A is preferable to model B?  "
   ]
  },
  {
   "attachments": {},
   "cell_type": "markdown",
   "metadata": {},
   "source": [
    "## CONGRATULATIONS! 🎉✨🍾\n",
    "If you made it this far, you have completed the Full Stack Machine Learning Corise course. \n",
    "We are so glad that you chose to learn with us, and hope to see you again in future courses. Stay tuned for more content and come join us in [Slack](http://slack.outerbounds.co/) to keep learning about Metaflow!"
   ]
  }
 ],
 "metadata": {
  "kernelspec": {
   "display_name": "full-stack-metaflow",
   "language": "python",
   "name": "python3"
  },
  "language_info": {
   "codemirror_mode": {
    "name": "ipython",
    "version": 3
   },
   "file_extension": ".py",
   "mimetype": "text/x-python",
   "name": "python",
   "nbconvert_exporter": "python",
   "pygments_lexer": "ipython3",
   "version": "3.10.12"
  },
  "orig_nbformat": 4
 },
 "nbformat": 4,
 "nbformat_minor": 2
}
